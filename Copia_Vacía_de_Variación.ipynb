{
  "nbformat": 4,
  "nbformat_minor": 0,
  "metadata": {
    "colab": {
      "name": "Copia Vacía de Variación.ipynb",
      "provenance": [],
      "include_colab_link": true
    },
    "kernelspec": {
      "name": "ir",
      "display_name": "R"
    },
    "language_info": {
      "name": "R"
    }
  },
  "cells": [
    {
      "cell_type": "markdown",
      "metadata": {
        "id": "view-in-github",
        "colab_type": "text"
      },
      "source": [
        "<a href=\"https://colab.research.google.com/github/milyfer/Descriptiva/blob/main/Copia_Vac%C3%ADa_de_Variaci%C3%B3n.ipynb\" target=\"_parent\"><img src=\"https://colab.research.google.com/assets/colab-badge.svg\" alt=\"Open In Colab\"/></a>"
      ]
    },
    {
      "cell_type": "markdown",
      "metadata": {
        "id": "ADe89Sq_Bp8z"
      },
      "source": [
        "# 2. Dispersión, variabilidad o heterogeneidad\n",
        "\n",
        "Estudiar la distribución de los valores de la serie, analizando si estos se encuentran más o menos concentrados, o más o menos dispersos. \n",
        "\n",
        "![tinystats.github.io](https://tinystats.github.io/teacups-giraffes-and-statistics/images/04_variance/giraffe_variance2.jpg)\n",
        "\n",
        "***\n",
        "> ¿Qué tan homogeneas son las exhalaciones del geyser Old Faithful?\n",
        "***\n",
        "Existen diversas medidas de dispersión, entre las más utilizadas podemos destacar las siguientes:\n",
        "\n",
        "## Amplitud.\n",
        "Es la medida de dispersión más fácil de obtener. Se obtiene hallando la diferencia entre la observación mayor y la menor (el valor máximo menos el valor mínimo). La amplitud es una medida muy influenciada por los valores extremos y por lo tanto puede dar una impresión falsa sobre los valores reales de la distribución.\n",
        "\n",
        "\n"
      ]
    },
    {
      "cell_type": "code",
      "metadata": {
        "colab": {
          "base_uri": "https://localhost:8080/",
          "height": 120
        },
        "id": "Lqv38PYR0q7M",
        "outputId": "6f8af8eb-7dc1-492a-a9c1-070699dd5658"
      },
      "source": [
        "# La amplitud del tiempo que tardan las exhalaciones y el  tiempo entre exhalaciones\n",
        "\n",
        "\n",
        "max(faithful$eruptions)-min(faithful$eruptions)\n",
        "max(faithful$waiting)-min(faithful$waiting)\n",
        "\n",
        "#la función range proporciona el mínimo y el máximo\n",
        "range(faithful$eruptions)\n",
        "range(faithful$waiting)\n",
        "#diferencia\n",
        "diff(range(faithful$eruptions))\n",
        "diff(range(faithful$waiting))\n"
      ],
      "execution_count": 2,
      "outputs": [
        {
          "output_type": "display_data",
          "data": {
            "text/plain": [
              "[1] 3.5"
            ],
            "text/latex": "3.5",
            "text/markdown": "3.5",
            "text/html": [
              "3.5"
            ]
          },
          "metadata": {}
        },
        {
          "output_type": "display_data",
          "data": {
            "text/plain": [
              "[1] 53"
            ],
            "text/latex": "53",
            "text/markdown": "53",
            "text/html": [
              "53"
            ]
          },
          "metadata": {}
        },
        {
          "output_type": "display_data",
          "data": {
            "text/plain": [
              "[1] 1.6 5.1"
            ],
            "text/latex": "\\begin{enumerate*}\n\\item 1.6\n\\item 5.1\n\\end{enumerate*}\n",
            "text/markdown": "1. 1.6\n2. 5.1\n\n\n",
            "text/html": [
              "<style>\n",
              ".list-inline {list-style: none; margin:0; padding: 0}\n",
              ".list-inline>li {display: inline-block}\n",
              ".list-inline>li:not(:last-child)::after {content: \"\\00b7\"; padding: 0 .5ex}\n",
              "</style>\n",
              "<ol class=list-inline><li>1.6</li><li>5.1</li></ol>\n"
            ]
          },
          "metadata": {}
        },
        {
          "output_type": "display_data",
          "data": {
            "text/plain": [
              "[1] 43 96"
            ],
            "text/latex": "\\begin{enumerate*}\n\\item 43\n\\item 96\n\\end{enumerate*}\n",
            "text/markdown": "1. 43\n2. 96\n\n\n",
            "text/html": [
              "<style>\n",
              ".list-inline {list-style: none; margin:0; padding: 0}\n",
              ".list-inline>li {display: inline-block}\n",
              ".list-inline>li:not(:last-child)::after {content: \"\\00b7\"; padding: 0 .5ex}\n",
              "</style>\n",
              "<ol class=list-inline><li>43</li><li>96</li></ol>\n"
            ]
          },
          "metadata": {}
        },
        {
          "output_type": "display_data",
          "data": {
            "text/plain": [
              "[1] 3.5"
            ],
            "text/latex": "3.5",
            "text/markdown": "3.5",
            "text/html": [
              "3.5"
            ]
          },
          "metadata": {}
        },
        {
          "output_type": "display_data",
          "data": {
            "text/plain": [
              "[1] 53"
            ],
            "text/latex": "53",
            "text/markdown": "53",
            "text/html": [
              "53"
            ]
          },
          "metadata": {}
        }
      ]
    },
    {
      "cell_type": "markdown",
      "metadata": {
        "id": "tox79R0A1hOb"
      },
      "source": [
        "Interpretación:"
      ]
    },
    {
      "cell_type": "markdown",
      "metadata": {
        "id": "aJ2FcrAP0XbN"
      },
      "source": [
        "## Varianza.\n",
        "Mide la distancia (cuadrada) existente entre los valores de la serie y la media. Mientras más se aproxima a cero, más concentrados están los valores de la serie alrededor de la media. Por el contrario, mientras mayor sea la varianza, más dispersos están. El símbolo para representar a la varianza muestral es\n",
        "$s^2$ y para la varianza poblacional $\\sigma^2$.\n",
        "\n",
        "$$s^2=\\frac{1}{n-1}{\\sum_{i=1}^{n}\\left(x_i-\\bar{x}\\right)^2}$$\n",
        "\n",
        "$$\\sigma^2=\\frac{1}{N}{\\sum_{i=1}^{N}\\left(x_i-\\mu\\right)^2}$$\n",
        "\n",
        "## Desviación estándar o típica.\n",
        "Se calcula como raíz cuadrada de la varianza.\n",
        "\n",
        "Nótese que ni la varianza ni la desviación estándar pueden ser negativas y son cero sólo cuando todos los datos tienen el mismo valor que no es otro que el valor de la media.\n"
      ]
    },
    {
      "cell_type": "code",
      "metadata": {
        "id": "z1bXP4B9cSbW"
      },
      "source": [
        "# La varianza de las exhalaciones y el tiempo entre exhalaciones\n",
        "\n",
        "\n"
      ],
      "execution_count": null,
      "outputs": []
    },
    {
      "cell_type": "markdown",
      "metadata": {
        "id": "Wf8_a4LNjZWf"
      },
      "source": [
        "Interpretación:Se puede usar a la amplitud para estimar a la desviación estándar ([Range Rule for Standard Deviation](https://scholar.rose-hulman.edu/cgi/viewcontent.cgi?article=1211&context=rhumj)).\n",
        "\n",
        "* [Estimación de la media y de la desviación estándar a partir de la amplitud](https://bmcmedresmethodol.biomedcentral.com/articles/10.1186/1471-2288-14-135)\n",
        "\n",
        "* [Use of the Range Instead of the Standard Deviation](https://www.jstor.org/stable/2281203).\n",
        "\n",
        "\n"
      ]
    },
    {
      "cell_type": "markdown",
      "metadata": {
        "id": "fr7nj0bucFM9"
      },
      "source": [
        "Los tiempos que tardan las exhalaciones se alejan en promedio 1.14 seg\n"
      ]
    },
    {
      "cell_type": "code",
      "metadata": {
        "id": "fl7Dj_QO44_z",
        "colab": {
          "base_uri": "https://localhost:8080/",
          "height": 86
        },
        "outputId": "c9185c6e-bc24-41df-bb32-89afb6757452"
      },
      "source": [
        "# Aproximaciones de la desviación estándar\n",
        "# estimación de la desviación estándar\n"
      ],
      "execution_count": null,
      "outputs": [
        {
          "output_type": "display_data",
          "data": {
            "text/plain": [
              "[1] 0.875"
            ],
            "text/latex": "0.875",
            "text/markdown": "0.875",
            "text/html": [
              "0.875"
            ]
          },
          "metadata": {
            "tags": []
          }
        },
        {
          "output_type": "display_data",
          "data": {
            "text/plain": [
              "[1] 1.141371"
            ],
            "text/latex": "1.14137125110521",
            "text/markdown": "1.14137125110521",
            "text/html": [
              "1.14137125110521"
            ]
          },
          "metadata": {
            "tags": []
          }
        },
        {
          "output_type": "display_data",
          "data": {
            "text/plain": [
              "[1] 13.25"
            ],
            "text/latex": "13.25",
            "text/markdown": "13.25",
            "text/html": [
              "13.25"
            ]
          },
          "metadata": {
            "tags": []
          }
        },
        {
          "output_type": "display_data",
          "data": {
            "text/plain": [
              "[1] 13.59497"
            ],
            "text/latex": "13.5949737899994",
            "text/markdown": "13.5949737899994",
            "text/html": [
              "13.5949737899994"
            ]
          },
          "metadata": {
            "tags": []
          }
        }
      ]
    },
    {
      "cell_type": "code",
      "metadata": {
        "id": "xOjoPUt0FVPD"
      },
      "source": [
        "#aproximacion de la S a partir de la amplitud en los datos de glucosa\n",
        "glucosa <- read.csv('glucosa.csv')\n",
        "\n",
        "diff(range(glucosa$glucosamgpordL))/4\n",
        "diff(range(glucosa$glucosamgpordL))/6\n",
        "\n",
        "sd(glucosa$glucosamgpordL)\n",
        "\n",
        "\n"
      ],
      "execution_count": null,
      "outputs": []
    },
    {
      "cell_type": "markdown",
      "metadata": {
        "id": "nR94np8s3W0j"
      },
      "source": [
        "# La [regla empirica](https://online.stat.psu.edu/stat200/lesson/2/2.2/2.2.7)\n",
        "<center>\n",
        "\n",
        "![](https://upload.wikimedia.org/wikipedia/commons/thumb/2/22/Empirical_rule_histogram.svg/553px-Empirical_rule_histogram.svg.png)\n",
        "\n",
        "</center>"
      ]
    },
    {
      "cell_type": "code",
      "metadata": {
        "id": "HbNDLI4k5ERv",
        "colab": {
          "base_uri": "https://localhost:8080/",
          "height": 69
        },
        "outputId": "45f26146-61b1-49f1-a418-6bca615b30ec"
      },
      "source": [
        "# Regla empirica\n",
        "\n",
        "mean(faithful$eruptions)-3*sd(faithful$eruptions)\n",
        "mean(faithful$eruptions)+3*sd(faithful$eruptions)\n",
        "\n",
        "range(faithful$eruptions)"
      ],
      "execution_count": null,
      "outputs": [
        {
          "output_type": "display_data",
          "data": {
            "text/plain": [
              "[1] 0.06366933"
            ],
            "text/latex": "0.0636693349196689",
            "text/markdown": "0.0636693349196689",
            "text/html": [
              "0.0636693349196689"
            ]
          },
          "metadata": {
            "tags": []
          }
        },
        {
          "output_type": "display_data",
          "data": {
            "text/plain": [
              "[1] 6.911897"
            ],
            "text/latex": "6.91189684155092",
            "text/markdown": "6.91189684155092",
            "text/html": [
              "6.91189684155092"
            ]
          },
          "metadata": {
            "tags": []
          }
        },
        {
          "output_type": "display_data",
          "data": {
            "text/plain": [
              "[1] 1.6 5.1"
            ],
            "text/latex": "\\begin{enumerate*}\n\\item 1.6\n\\item 5.1\n\\end{enumerate*}\n",
            "text/markdown": "1. 1.6\n2. 5.1\n\n\n",
            "text/html": [
              "<style>\n",
              ".list-inline {list-style: none; margin:0; padding: 0}\n",
              ".list-inline>li {display: inline-block}\n",
              ".list-inline>li:not(:last-child)::after {content: \"\\00b7\"; padding: 0 .5ex}\n",
              "</style>\n",
              "<ol class=list-inline><li>1.6</li><li>5.1</li></ol>\n"
            ]
          },
          "metadata": {
            "tags": []
          }
        }
      ]
    },
    {
      "cell_type": "code",
      "metadata": {
        "id": "dOI6Y6BKC8bC",
        "outputId": "9153d5b9-bc1b-4bbe-d6e3-403a72d698dd",
        "colab": {
          "base_uri": "https://localhost:8080/",
          "height": 99
        }
      },
      "source": [
        "#sin generar un dataframe\n",
        "faithful$eruptions>= 0.06 & faith$eruption<=6.9\n",
        "# otra froma\n",
        "ecdf(faithful$eruption)(0.064)\n",
        "ecdf(faithful$eruption)(6.91)\n",
        "\n",
        "\n",
        "\n"
      ],
      "execution_count": 4,
      "outputs": [
        {
          "output_type": "error",
          "ename": "ERROR",
          "evalue": "ignored",
          "traceback": [
            "Error in eval(expr, envir, enclos): object 'faith' not found\nTraceback:\n"
          ]
        }
      ]
    },
    {
      "cell_type": "markdown",
      "metadata": {
        "id": "cto3JUjnJY3d"
      },
      "source": [
        "## Compartir Notebooks a través de GitHub\n",
        "\n",
        "[GitHub](github.com) es una plataforma de desarrollo colaborativo para alojar proyectos utilizando el sistema de control de versiones Git. Se utiliza principalmente para la creación de código fuente de programas de ordenador. \n",
        "\n",
        "En nuestro caso lo usaremos como un repositorio que nos permitirá compartir nuestras Notebooks con código de R y para crear una página web personal.\n",
        "\n",
        "3. Escribir el nombre del repositorio y seleccionar si el repositorio será publico o privado (opcionalmente agregar el README file). Luego oprimir el botón de crear repositorio.\n",
        "\n",
        "![](https://github.com/mucioosorio/Diplomado-con-R.-Mayo-de-2021/blob/main/git3.JPG?raw=true)\n",
        "\n",
        "Ejemplo de un repositorio público:\n",
        "\n",
        "https://github.com/demar01/penguinsbox\n",
        "\n",
        "5. Compartir la Notebook\n",
        "\n",
        "Seleccionr en el menú principal la opción **Archivo** y luego **Guardar una copia en GitHub**\n",
        "\n",
        "![](https://github.com/mucioosorio/Diplomado-con-R.-Mayo-de-2021/blob/main/git5.JPG?raw=true)\n",
        "\n",
        "\n",
        "\n"
      ]
    },
    {
      "cell_type": "markdown",
      "metadata": {
        "id": "0NmRQSRp0yHc"
      },
      "source": [
        "mas del 99% de las exhalaciones tienen tiempos de duración entre 0.06 y 6.9 seg\n",
        "\n",
        "## Rango intercuartil\n",
        "\n",
        "Es una medida resistente de variación,puesto que elimina al 25% de datos más pequeños y al 25% de los datos mas grandes mide la amplitud del 50% de los datos centrales. \n",
        "\n",
        "$$AIC=P_{0.75}-P_{0.25}$$\n",
        "\n",
        "## Desviación absoluta de la mediana\n",
        "\n",
        "Es la mediana de las desviaciónes absolutas de cada valor respecto a la mediana.\n",
        "\n"
      ]
    },
    {
      "cell_type": "code",
      "metadata": {
        "id": "XpAIixRRx9Uu",
        "colab": {
          "base_uri": "https://localhost:8080/",
          "height": 52
        },
        "outputId": "45c0fdee-e4a7-4979-d1ec-dcff65286475"
      },
      "source": [
        "median((abs(faithful$eruptions-median(faithful$eruptions))))\n",
        "\n",
        "median((abs(faithful$waiting-median(faithful$waiting))))\n"
      ],
      "execution_count": null,
      "outputs": [
        {
          "output_type": "display_data",
          "data": {
            "text/plain": [
              "[1] 0.6415"
            ],
            "text/latex": "0.6415",
            "text/markdown": "0.6415",
            "text/html": [
              "0.6415"
            ]
          },
          "metadata": {
            "tags": []
          }
        },
        {
          "output_type": "display_data",
          "data": {
            "text/plain": [
              "[1] 8"
            ],
            "text/latex": "8",
            "text/markdown": "8",
            "text/html": [
              "8"
            ]
          },
          "metadata": {
            "tags": []
          }
        }
      ]
    },
    {
      "cell_type": "code",
      "metadata": {
        "colab": {
          "base_uri": "https://localhost:8080/",
          "height": 155
        },
        "id": "7TJMWbXbB2yz",
        "outputId": "b73f410e-3ec9-4cae-f2a7-9dae9c4f00fb"
      },
      "source": [
        "# comparación de las medidas de variación\n",
        "x = c(2, 4 ,8 ,9 ,11, 11, 12)\n",
        "\n",
        "median((abs(x-median(x))))\n",
        "var(x)\n",
        "sd(x)\n",
        "diff(quantile(x,c(.25,.75),type = 2))\n",
        "\n",
        "y =c(2, 4, 8, 9, 11, 11, 120) \n",
        "\n",
        "median((abs(y-median(y))))\n",
        "var(y)\n",
        "sd(y)\n",
        "diff(quantile(y,c(.25,.75),type = 2))\n"
      ],
      "execution_count": null,
      "outputs": [
        {
          "output_type": "display_data",
          "data": {
            "text/plain": [
              "[1] 2"
            ],
            "text/latex": "2",
            "text/markdown": "2",
            "text/html": [
              "2"
            ]
          },
          "metadata": {
            "tags": []
          }
        },
        {
          "output_type": "display_data",
          "data": {
            "text/plain": [
              "[1] 14.47619"
            ],
            "text/latex": "14.4761904761905",
            "text/markdown": "14.4761904761905",
            "text/html": [
              "14.4761904761905"
            ]
          },
          "metadata": {
            "tags": []
          }
        },
        {
          "output_type": "display_data",
          "data": {
            "text/plain": [
              "[1] 3.804759"
            ],
            "text/latex": "3.80475892484537",
            "text/markdown": "3.80475892484537",
            "text/html": [
              "3.80475892484537"
            ]
          },
          "metadata": {
            "tags": []
          }
        },
        {
          "output_type": "display_data",
          "data": {
            "text/plain": [
              "75% \n",
              "  7 "
            ],
            "text/latex": "\\textbf{75\\textbackslash{}\\%:} 7",
            "text/markdown": "**75%:** 7",
            "text/html": [
              "<strong>75%:</strong> 7"
            ]
          },
          "metadata": {
            "tags": []
          }
        },
        {
          "output_type": "display_data",
          "data": {
            "text/plain": [
              "[1] 2"
            ],
            "text/latex": "2",
            "text/markdown": "2",
            "text/html": [
              "2"
            ]
          },
          "metadata": {
            "tags": []
          }
        },
        {
          "output_type": "display_data",
          "data": {
            "text/plain": [
              "[1] 1819.619"
            ],
            "text/latex": "1819.61904761905",
            "text/markdown": "1819.61904761905",
            "text/html": [
              "1819.61904761905"
            ]
          },
          "metadata": {
            "tags": []
          }
        },
        {
          "output_type": "display_data",
          "data": {
            "text/plain": [
              "[1] 42.65699"
            ],
            "text/latex": "42.6569929509693",
            "text/markdown": "42.6569929509693",
            "text/html": [
              "42.6569929509693"
            ]
          },
          "metadata": {
            "tags": []
          }
        },
        {
          "output_type": "display_data",
          "data": {
            "text/plain": [
              "75% \n",
              "  7 "
            ],
            "text/latex": "\\textbf{75\\textbackslash{}\\%:} 7",
            "text/markdown": "**75%:** 7",
            "text/html": [
              "<strong>75%:</strong> 7"
            ]
          },
          "metadata": {
            "tags": []
          }
        }
      ]
    },
    {
      "cell_type": "code",
      "metadata": {
        "id": "6auzChvJ1wSR"
      },
      "source": [
        ""
      ],
      "execution_count": null,
      "outputs": []
    }
  ]
}